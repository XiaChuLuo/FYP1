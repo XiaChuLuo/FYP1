{
  "nbformat": 4,
  "nbformat_minor": 0,
  "metadata": {
    "colab": {
      "provenance": [],
      "gpuType": "T4",
      "include_colab_link": true
    },
    "kernelspec": {
      "name": "python3",
      "display_name": "Python 3"
    },
    "language_info": {
      "name": "python"
    },
    "accelerator": "GPU"
  },
  "cells": [
    {
      "cell_type": "markdown",
      "metadata": {
        "id": "view-in-github",
        "colab_type": "text"
      },
      "source": [
        "<a href=\"https://colab.research.google.com/github/XiaChuLuo/FYP1/blob/main/Untitled0.ipynb\" target=\"_parent\"><img src=\"https://colab.research.google.com/assets/colab-badge.svg\" alt=\"Open In Colab\"/></a>"
      ]
    },
    {
      "cell_type": "code",
      "execution_count": null,
      "metadata": {
        "id": "nkxfPNDHgHGw"
      },
      "outputs": [],
      "source": [
        "!pip install tensorflow opencv-python matplotlib numpy pandas seaborn scikit-learn\n"
      ]
    },
    {
      "cell_type": "code",
      "source": [
        "#import from google drive\n",
        "\n",
        "from google.colab import drive\n",
        "drive.mount('/content/drive')"
      ],
      "metadata": {
        "id": "iczsWXj0gPOv"
      },
      "execution_count": null,
      "outputs": []
    },
    {
      "cell_type": "code",
      "source": [
        "#Define a Dataset Path\n",
        "\n",
        "import os\n",
        "\n",
        "BASE_DIR = \"/content/drive/MyDrive/colored_images\"\n",
        "\n",
        "# Define class names based on folder names\n",
        "class_names = [\"Mild\", \"Moderate\", \"No_DR\", \"Proliferate_DR\", \"Severe\"]\n"
      ],
      "metadata": {
        "id": "FS0dAR-IllJD"
      },
      "execution_count": null,
      "outputs": []
    }
  ]
}